{
 "cells": [
  {
   "cell_type": "code",
   "execution_count": 2,
   "metadata": {},
   "outputs": [],
   "source": [
    "import sys\n",
    "sys.path.insert(0, '../')\n",
    "\n",
    "import numpy as np\n",
    "import matplotlib.pyplot as mpl_plt\n",
    "from tests.test3 import Test\n",
    "from visualizer.main import Visualizer\n",
    "import math"
   ]
  },
  {
   "cell_type": "markdown",
   "metadata": {},
   "source": [
    "# Triangulacja wielokątów monotonicznych - problem monitorowania galerii\n"
   ]
  },
  {
   "cell_type": "markdown",
   "metadata": {},
   "source": [
    "## Przydatne funkcje\n"
   ]
  },
  {
   "cell_type": "code",
   "execution_count": 5,
   "metadata": {},
   "outputs": [],
   "source": [
    "polygon_example_1 = [(5,5), (3,4), (6,3), (4,2), (6,0), (7,1), (8,4)]\n",
    "polygon_example_2 = [(2,0), (5,1), (6,0), (8,3), (7,2), (8,7), (6,9), (5,8), (2,9), (1,7), (2,4), (4,5), (3,6), (5, 7), (5.5, 3), (2,2), (1,3), (0,1)]\n",
    "polygon_example_colors = [1, 3, 1, 0, 2, 4, 0, 2, 0, 4, 1, 4, 4, 3, 4, 2, 0, 4]\n",
    "polygon_example_tri = [(polygon_example_1[0], polygon_example_1[2]),\n",
    "                      (polygon_example_1[2], polygon_example_1[5]),\n",
    "                      (polygon_example_1[2], polygon_example_1[6]),\n",
    "                      (polygon_example_1[2], polygon_example_1[4])]"
   ]
  },
  {
   "cell_type": "code",
   "execution_count": 3,
   "metadata": {},
   "outputs": [],
   "source": [
    "def draw_polygon(polygon):\n",
    "    vis = Visualizer()\n",
    "    points = polygon\n",
    "    vis.add_polygon(polygon, fill=False)\n",
    "    vis.show()"
   ]
  },
  {
   "cell_type": "code",
   "execution_count": 20,
   "metadata": {},
   "outputs": [],
   "source": [
    "def draw_polygon_colors(polygon,colors):\n",
    "    points_start=[]\n",
    "    points_end=[]\n",
    "    points_connect=[]\n",
    "    points_divide=[]\n",
    "    points_regular=[]\n",
    "    for i in range(len(polygon)):\n",
    "        if colors[i]==0:\n",
    "            points_start.append(polygon[i])\n",
    "        elif colors[i]==1:\n",
    "            points_end.append(polygon[i])\n",
    "        elif colors[i]==2:\n",
    "            points_connect.append(polygon[i])\n",
    "        elif colors[i]==3:\n",
    "            points_divide.append(polygon[i])\n",
    "        elif colors[i]==4:\n",
    "            points_regular.append(polygon[i])\n",
    "\n",
    "    vis = Visualizer()\n",
    "    colors_start = ['green']\n",
    "    color_end=['red']\n",
    "    color_connect=['blue']\n",
    "    color_divide=['cyan']\n",
    "    color_regular=['#3B240B']\n",
    "    vis.add_polygon(polygon, fill= False)\n",
    "    vis.add_point(points_start, color=colors_start)\n",
    "    vis.add_point(points_end, color=color_end)\n",
    "    vis.add_point(points_connect, color=color_connect)\n",
    "    vis.add_point(points_divide, color=color_divide)\n",
    "    vis.add_point(points_regular, color=color_regular)\n",
    "    vis.show()"
   ]
  },
  {
   "cell_type": "code",
   "execution_count": 21,
   "metadata": {},
   "outputs": [],
   "source": [
    "def draw_polygon_tri(polygon,tri):\n",
    "\n",
    "    vis = Visualizer()\n",
    "    points = polygon\n",
    "    tri_line_segments = tri\n",
    "    vis.add_polygon(points, fill=False)\n",
    "    vis.add_point(points)\n",
    "    vis.add_line_segment(tri_line_segments, color='red')\n",
    "    vis.show()"
   ]
  },
  {
   "cell_type": "markdown",
   "metadata": {},
   "source": [
    "## Wprowadzenie\n",
    "Celem ćwiczenia jest:\n",
    "- sprawdzanie $y$-monotoniczności\n",
    "- podział wierchołków na kategorie\n",
    "- triangulacja wielokąta monotonicznego"
   ]
  },
  {
   "cell_type": "markdown",
   "metadata": {},
   "source": [
    "### Przykładowy wielokąt $y$-monotoniczny"
   ]
  },
  {
   "cell_type": "code",
   "execution_count": 51,
   "metadata": {},
   "outputs": [],
   "source": [
    "draw_polygon(polygon_example_1)"
   ]
  },
  {
   "cell_type": "markdown",
   "metadata": {},
   "source": [
    "Do tego celu wygeneruj wielokąt."
   ]
  },
  {
   "cell_type": "code",
   "execution_count": 6,
   "metadata": {},
   "outputs": [],
   "source": [
    "%matplotlib tk\n",
    "\n",
    "'''\n",
    "\n",
    "Funkcja która za pomocją myszki pozwala wprowadzić wielokąt. Wykorzystuje ona\n",
    "bibliotekę matplotlib, konkretnie kolekcje pyplot.\n",
    "\n",
    "Punkty należy podać odwrotnie do wskazówek zegara.\n",
    "\n",
    "Aby zamknnąć wielokąt proszę kliknąć prawaym przyciskiem myszy.\n",
    "\n",
    "'''\n",
    "def make_polygon():\n",
    "\n",
    "    polygon = []\n",
    "    events = []\n",
    "    is_poligon_open = True\n",
    "\n",
    "    def draw_point(point):\n",
    "\n",
    "        mpl_plt.scatter(point[0], point[1], color=\"orange\")\n",
    "        mpl_plt.show()\n",
    "\n",
    "    def draw_line(points):\n",
    "\n",
    "        ax = mpl_plt.gca()\n",
    "        x = [points[0][0], points[1][0]]\n",
    "        y = [points[0][1], points[1][1]]\n",
    "        ax.plot(x, y, color=\"purple\")\n",
    "        ax.figure.canvas.draw()\n",
    "\n",
    "    def onclick(event):\n",
    "\n",
    "        nonlocal is_poligon_open\n",
    "        if  is_poligon_open:\n",
    "            if event.button == 1:\n",
    "                x = event.xdata\n",
    "                y = event.ydata\n",
    "                polygon.append((x, y))\n",
    "                events.append(event)\n",
    "                draw_point((x, y))\n",
    "                if len(polygon) > 1:\n",
    "                    draw_line([polygon[-2], polygon[-1]])\n",
    "            elif event.button == 3 and len(polygon) > 2:\n",
    "                draw_line([polygon[-1], polygon[0]])\n",
    "                is_poligon_open = False\n",
    "                ax.set_title(\"Poligon zamknięt, do zobaczenia ;-)\")\n",
    "                mpl_plt.pause(1)\n",
    "                mpl_plt.close()\n",
    "\n",
    "    fig, ax = mpl_plt.subplots()\n",
    "    mpl_plt.get_current_fig_manager().set_window_title(\"Wygeneruj wielokąt\")\n",
    "    ax.set_title(\"Kliknij, aby dodać wierzchołek wielokąta\")\n",
    "\n",
    "    fig.canvas.mpl_connect(\"button_press_event\", onclick)\n",
    "    ax.set_xlim([0, 2])\n",
    "    ax.set_ylim([0, 2])\n",
    "    ax.set_aspect(1)\n",
    "    mpl_plt.tight_layout()\n",
    "    mpl_plt.ion()\n",
    "    mpl_plt.show()\n",
    "\n",
    "    return polygon\n",
    "polygon=make_polygon()\n"
   ]
  },
  {
   "cell_type": "code",
   "execution_count": 9,
   "metadata": {},
   "outputs": [
    {
     "name": "stdout",
     "output_type": "stream",
     "text": [
      "[(np.float64(1.5155604516662078), np.float64(0.6259983475626547)), (np.float64(1.5750481960892317), np.float64(1.3448085926741942)), (np.float64(1.0297438722115118), np.float64(1.7215643073533458)), (np.float64(0.3158909391352246), np.float64(1.2357477278986502)), (np.float64(0.8017075185899202), np.float64(0.5218947948223628))]\n"
     ]
    }
   ],
   "source": [
    "draw_polygon(polygon)\n",
    "print(polygon)\n"
   ]
  },
  {
   "cell_type": "code",
   "execution_count": 8,
   "metadata": {},
   "outputs": [],
   "source": [
    "polygon_one=  [(np.float64(1.8526576700633433), np.float64(0.16496832828421912)), (np.float64(1.17350592123382), np.float64(1.9496006609749374)), (np.float64(1.153676673092812), np.float64(1.498485265767006)), (np.float64(0.9999999999999999), np.float64(1.2952354723216741)), (np.float64(0.7769209584136602), np.float64(1.1861746075461304)), (np.float64(0.5538419168273204), np.float64(1.1266868631231064)), (np.float64(0.26631781878270455), np.float64(1.1068576149820983))]\n",
    "\n",
    "polygon_two = [(np.float64(1.5205177637014597), np.float64(1.9000275406224179)), (np.float64(1.2676948499036076), np.float64(1.9049848526576698)), (np.float64(0.10272652161938878), np.float64(1.1316441751583584)), (np.float64(0.3307628752409806), np.float64(1.0771137427705864)), (np.float64(0.16221426604241274), np.float64(0.5813825392453867)), (np.float64(0.3952079316992565), np.float64(0.5665106031396308)), (np.float64(0.5538419168273204), np.float64(1.2208757917928943)), (np.float64(1.3420545304323879), np.float64(1.671991187000826)), (np.float64(1.7535114293583036), np.float64(1.7066923712475899)), (np.float64(1.7733406774993115), np.float64(1.8008812999173778))]\n",
    "\n",
    "polygon_three= [(np.float64(0.6282015973561003), np.float64(0.30873037730652697)), (np.float64(1.5304323877719637), np.float64(0.3434315615532909)), (np.float64(1.9468465987331314), np.float64(0.8342054530432386)), (np.float64(1.9270173505921235), np.float64(1.577802258331038)), (np.float64(1.5155604516662078), np.float64(1.9644725970806938)), (np.float64(0.8314513908014322), np.float64(1.9347287248691816)), (np.float64(0.3803359955935005), np.float64(1.468741393555494)), (np.float64(0.3406774993114845), np.float64(0.6805287799504267))]\n",
    "\n",
    "polygon_four= [(np.float64(0.4199944918755164), np.float64(0.13026714403745518)), (np.float64(1.9022307904158633), np.float64(0.40291930597631487)), (np.float64(1.158633985128064), np.float64(0.6606995318094186)), (np.float64(1.9022307904158633), np.float64(0.8837785733957586)), (np.float64(1.5700908840539798), np.float64(0.9977967502065543)), (np.float64(1.8824015422748555), np.float64(1.1713026714403743)), (np.float64(1.1834205453043238), np.float64(1.498485265767006)), (np.float64(1.8724869182043515), np.float64(1.8504544202698978)), (np.float64(0.2712751308179566), np.float64(1.9644725970806938))]\n",
    "\n",
    "polygon_five= [(np.float64(1.6890663729000277), np.float64(1.642247314789314)), (np.float64(1.213164417515836), np.float64(1.895070228587166)), (np.float64(0.38529330762875247), np.float64(1.895070228587166)), (np.float64(0.22170201046543658), np.float64(1.7116496832828418)), (np.float64(0.20187276232442863), np.float64(1.389424400991462)), (np.float64(0.2861470669237126), np.float64(1.1713026714403743)), (np.float64(0.5687138529330763), np.float64(1.270448912145414)), (np.float64(0.6876893417791242), np.float64(1.513357201872762)), (np.float64(0.816579454695676), np.float64(1.637290002754062)), (np.float64(1.1883778573395758), np.float64(1.587716882401542)), (np.float64(1.2974387221151198), np.float64(1.394381713026714)), (np.float64(1.277609473974112), np.float64(1.0820710548058383)), (np.float64(1.213164417515836), np.float64(0.8788212613605064)), (np.float64(1.059487744423024), np.float64(0.7201872762324426)), (np.float64(0.7372624621316443), np.float64(0.6706141558799227)), (np.float64(0.43982374001652447), np.float64(0.8292481410079866)), (np.float64(0.2464885706416966), np.float64(0.9531809418892865)), (np.float64(0.1671715780776647), np.float64(0.6111264114568987)), (np.float64(0.2861470669237126), np.float64(0.4425778022583309)), (np.float64(0.7223905260258882), np.float64(0.2690718810245111)), (np.float64(1.4164142109611677), np.float64(0.278986505095015)), (np.float64(1.7386394932525473), np.float64(0.5020655466813548)), (np.float64(1.8229137978518315), np.float64(0.8887358854310106)), (np.float64(1.8278711098870835), np.float64(1.1564307353346184)), (np.float64(1.7931699256403193), np.float64(1.424125585238226))]\n"
   ]
  },
  {
   "cell_type": "code",
   "execution_count": 10,
   "metadata": {},
   "outputs": [
    {
     "ename": "NameError",
     "evalue": "name 'draw_polygon' is not defined",
     "output_type": "error",
     "traceback": [
      "\u001b[0;31m---------------------------------------------------------------------------\u001b[0m",
      "\u001b[0;31mNameError\u001b[0m                                 Traceback (most recent call last)",
      "Cell \u001b[0;32mIn[10], line 1\u001b[0m\n\u001b[0;32m----> 1\u001b[0m \u001b[43mdraw_polygon\u001b[49m(polygon_one)\n\u001b[1;32m      2\u001b[0m draw_polygon(polygon_two)\n\u001b[1;32m      3\u001b[0m draw_polygon(polygon_three)\n",
      "\u001b[0;31mNameError\u001b[0m: name 'draw_polygon' is not defined"
     ]
    }
   ],
   "source": [
    "draw_polygon(polygon_one)\n",
    "draw_polygon(polygon_two)\n",
    "draw_polygon(polygon_three)\n",
    "draw_polygon(polygon_four)\n",
    "draw_polygon(polygon_five)\n"
   ]
  },
  {
   "cell_type": "markdown",
   "metadata": {},
   "source": [
    "## Czy wielokąt jest $y$-monotoniczny?"
   ]
  },
  {
   "cell_type": "markdown",
   "metadata": {},
   "source": [
    "Wielokąt jest monotoniczny, gdy jego wierzchołki mogą być ułożone w taki sposób, że jedna z jego współrzędnych (na przykład współrzędna $x$ lub $y$, w zależności od układu współrzędnych) zawsze rośnie lub maleje wzdłuż kolejnych wierzchołków. Innymi słowy, dla każdej pary wierzchołków wielokąta (oprócz wierzchołka startowego i końcowego), jeden z punktów ma większą (lub mniejszą) wartość danej współrzędnej niż drugi punkt.\n",
    "\n",
    "W praktyce, wielokąt monotoniczny może być łatwiej sortowany lub przetwarzany w pewnych algorytmach geometrycznych, ponieważ istnieje pewna kolejność, w jakiej wierzchołki pojawiają się wzdłuż danej osi (np. osi $x$ lub $y$). Monotoniczność może ułatwić znajdowanie przecięć linii w takim wielokącie lub wykonywanie innych operacji geometrycznych. W tym zadaniu interesuje nas monotoniczność wielokąta wzdłuż osi $y$."
   ]
  },
  {
   "cell_type": "markdown",
   "metadata": {},
   "source": [
    "<span style=\"color:red\">Ćw.</span> Uzupełnij funkcję ```is_y_monotonic```. Pamiętaj, aby sprawozdanie zawierało krótki opis działania tej funkcji."
   ]
  },
  {
   "cell_type": "code",
   "execution_count": null,
   "metadata": {},
   "outputs": [],
   "source": [
    "def is_y_monotonic(polygon):\n",
    "    '''\n",
    "\n",
    "    Funkcja sprawdza y-monotoniczność wielokąta. Robi to wpierw znajdując\n",
    "    najniższy i najwyższy punkt w wielokącie. Następnie dzieli\n",
    "    punkty na prawy i lewy łańcuch. Na koniec porównuje czy idąc od najwyższego\n",
    "    do najniższego wierzchołka w danym łańcuchy współrzędne y punktów nie są rosnące.\n",
    "\n",
    "\n",
    "    '''\n",
    "\n",
    "    min_point = polygon[0][1]\n",
    "    max_point = polygon[0][1]\n",
    "\n",
    "    min_ind = 0\n",
    "    max_ind = 0\n",
    "\n",
    "    for i, (_, point_y)in enumerate(polygon):\n",
    "\n",
    "        if point_y >= max_point:\n",
    "            max_point=point_y\n",
    "            max_ind= i\n",
    "        if point_y<=min_point:\n",
    "            min_point =point_y\n",
    "            min_ind = i\n",
    "    right_side = []\n",
    "    left_side = []\n",
    "\n",
    "    if min_ind < max_ind:\n",
    "        right_side = polygon[min_ind:max_ind + 1]\n",
    "        left_side = polygon[max_ind:] + polygon [:min_ind + 1]\n",
    "    else:\n",
    "        right_side = polygon[min_ind:] + polygon [:max_ind + 1]\n",
    "        left_side = polygon[max_ind:min_ind + 1]\n",
    "\n",
    "\n",
    "\n",
    "    r_len = len(right_side)\n",
    "    l_len = len(left_side)\n",
    "\n",
    "    for i in range (r_len-1):\n",
    "        if right_side[i][1]>right_side[i+1][1]: return False\n",
    "    for i in range (l_len-1):\n",
    "        if left_side[i][1]<left_side[i+1][1]: return False\n",
    "\n",
    "\n",
    "    return True\n"
   ]
  },
  {
   "cell_type": "markdown",
   "metadata": {},
   "source": [
    "Przeprowadź test poprawności powyższej funkcji."
   ]
  },
  {
   "cell_type": "code",
   "execution_count": 14,
   "metadata": {},
   "outputs": [
    {
     "name": "stdout",
     "output_type": "stream",
     "text": [
      "Lab 3, task 1:\n",
      "\tTest 1: Passed\n",
      "\tTest 2: Passed\n",
      "\tTest 3: Passed\n",
      "\tTest 4: Passed\n",
      "\tTest 5: Passed\n",
      "\tTest 6: Passed\n",
      "\tTest 7: Passed\n",
      "\tTest 8: Passed\n",
      "\tTest 9: Passed\n",
      "\tTest 10: Passed\n",
      "Result: 10/10\n",
      "Time: 0.002s\n"
     ]
    }
   ],
   "source": [
    "Test().runtest(1, is_y_monotonic)"
   ]
  },
  {
   "cell_type": "markdown",
   "metadata": {},
   "source": [
    "Sprawdź monotoniczność swojego wielokątu."
   ]
  },
  {
   "cell_type": "code",
   "execution_count": 15,
   "metadata": {},
   "outputs": [
    {
     "name": "stdout",
     "output_type": "stream",
     "text": [
      "True\n",
      "True\n",
      "True\n",
      "True\n",
      "False\n"
     ]
    }
   ],
   "source": [
    "print(is_y_monotonic(polygon_one))\n",
    "print(is_y_monotonic(polygon_two))\n",
    "print(is_y_monotonic(polygon_three))\n",
    "print(is_y_monotonic(polygon_four))\n",
    "print(is_y_monotonic(polygon_five))\n"
   ]
  },
  {
   "cell_type": "markdown",
   "metadata": {},
   "source": [
    "***"
   ]
  },
  {
   "cell_type": "markdown",
   "metadata": {},
   "source": [
    "# Podział wierzchołków na kategorie"
   ]
  },
  {
   "cell_type": "markdown",
   "metadata": {},
   "source": [
    "Wierzchołki naszego wielokąta możemy podzielić na parę kategorii:\n",
    "- początkowe, gdy obaj jego sąsiedzi leżą poniżej i kąt wewnętrzny ma mniej niż 180 stopni. To wierzchołki, w których zaczyna się monotoniczny spadek\n",
    "- końcowe, gdy obaj jego sąsiedzi leżą powyżej i kąt wewnętrzny ma mniej niż 180 stopni. To wierzchołki, w których monotoniczność wielokąta się zmienia, czyli na przykład zaczyna się monotoniczny wzrost, jeśli wcześniej był spadek, lub na odwrót.\n",
    "\n",
    "Wierzchołki startowe i końcowe są ważne w kontekście algorytmów przetwarzania wielokątów monotonicznych, takich jak algorytmy dziel i zwyciężaj oraz triangulacji.\n",
    "- dzielący, gdy obaj jego sąsiedzi leżą poniżej i kąt wewnęntrzny ma więcej niż 180 stopni. To wierzchołki, które wyznaczają przekątne (linie łączące), tworzące trójkąty podczas triangulacji.\n",
    "- łączący, gdy obaj jego sąsiedzi leżą powyżej i kąt wewnęntrzny ma więcej niż 180 stopni. To wierzchołki, które są połączone liniami (przekątnymi) wewnątrz wielokąta, tworząc trójkąty.\n",
    "\n",
    "Wierzchołki łączące i dzielące odgrywają kluczową rolę w procesie triangulacji wielokątów, pozwalając na podział figury na trójkąty w sposób bezkolizyjny.\n",
    "- prawidłowy, pozostałe przypadki, jeden sąsiad powyżej, drugi poniżej\n"
   ]
  },
  {
   "cell_type": "markdown",
   "metadata": {},
   "source": [
    "### Przykładowy wielokąt z pokolorowanymi wierzchołkami."
   ]
  },
  {
   "cell_type": "code",
   "execution_count": 38,
   "metadata": {},
   "outputs": [],
   "source": [
    "draw_polygon_colors(polygon_example_2,polygon_example_colors)"
   ]
  },
  {
   "cell_type": "markdown",
   "metadata": {},
   "source": [
    "<span style=\"color:red\">Ćw.</span> Uzupełnij funkcję ```color_vertex``` ."
   ]
  },
  {
   "cell_type": "code",
   "execution_count": 17,
   "metadata": {},
   "outputs": [],
   "source": [
    "\"\"\"\n",
    "    Funkcja dzieli wierzchołki na kategorie i przypisuje wierzchołkom odpowiednie numery:\n",
    "    0 - początkowy, 1 - końcowy, 2 - łączący, 3 - dzielący, 4 - prawdiłowy\n",
    "    :param polygon: tablica krotek punktów na płaszczyźnie euklidesowej podanych przeciwnie do ruchu wskazówek zegara - nasz\n",
    "    :return: tablica o długości n, gdzie n = len(polygon), zawierająca cyfry z przedziału 0 - 4, gdzie T[i] odpowiada kategorii i-tego wierzchołka.\n",
    "\"\"\"\n",
    "\n",
    "\n",
    "def point_classifier(polygon,i,n):\n",
    "\n",
    "    a = polygon[i - 1 if i > 0 else n - 1]\n",
    "    b = polygon[i]\n",
    "    c = polygon[i + 1 if i < n - 1 else 0]\n",
    "\n",
    "\n",
    "    determinant= a[0]*c[1]+a[1]*b[0]+c[0]*b[1]-c[1]*b[0]-a[0]*b[1]-a[1]*c[0]\n",
    "\n",
    "    is_convex = determinant < 0\n",
    "    is_concave = determinant > 0\n",
    "\n",
    "    ya,yb,yc=a[1],b[1],c[1]\n",
    "    if yb>ya and yb>yc and is_convex: return 0\n",
    "    elif yb<ya and yb<yc and is_convex: return 1\n",
    "    elif yb<ya and yb<yc and is_concave: return 2\n",
    "    elif yb>ya and yb>yc and is_concave: return 3\n",
    "    else: return 4\n",
    "def color_vertex(polygon):\n",
    "    n=len(polygon)\n",
    "    T=[None for i in range(n)]\n",
    "    for i in range(n): T[i]=point_classifier(polygon,i,n)\n",
    "    return T"
   ]
  },
  {
   "cell_type": "markdown",
   "metadata": {},
   "source": [
    "Przeprowadź test poprawności powyższej funkcji. "
   ]
  },
  {
   "cell_type": "code",
   "execution_count": 18,
   "metadata": {},
   "outputs": [
    {
     "name": "stdout",
     "output_type": "stream",
     "text": [
      "Lab 3, task 2:\n",
      "\tTest 1: Passed\n",
      "\tTest 2: Passed\n",
      "\tTest 3: Passed\n",
      "\tTest 4: Passed\n",
      "\tTest 5: Passed\n",
      "\tTest 6: Passed\n",
      "\tTest 7: Passed\n",
      "\tTest 8: Passed\n",
      "\tTest 9: Passed\n",
      "\tTest 10: Passed\n",
      "Result: 10/10\n",
      "Time: 0.001s\n"
     ]
    }
   ],
   "source": [
    "Test().runtest(2, color_vertex)"
   ]
  },
  {
   "cell_type": "markdown",
   "metadata": {},
   "source": [
    "Zwizualizuj swój wielokąt z pokolorowanymi według kategorii wierzchołkami."
   ]
  },
  {
   "cell_type": "code",
   "execution_count": 22,
   "metadata": {},
   "outputs": [],
   "source": [
    "colors = color_vertex(polygon_one)\n",
    "draw_polygon_colors(polygon_one,colors)\n",
    "\n",
    "colors = color_vertex(polygon_two)\n",
    "draw_polygon_colors(polygon_two,colors)\n",
    "colors = color_vertex(polygon_three)\n",
    "draw_polygon_colors(polygon_three,colors)\n",
    "colors = color_vertex(polygon_four)\n",
    "draw_polygon_colors(polygon_four,colors)\n",
    "\n",
    "\n",
    "colors = color_vertex(polygon_five)\n",
    "draw_polygon_colors(polygon_five,colors)\n"
   ]
  },
  {
   "cell_type": "markdown",
   "metadata": {},
   "source": [
    "***"
   ]
  },
  {
   "cell_type": "markdown",
   "metadata": {},
   "source": [
    "# Triangulacja wielokąta monotonicznego"
   ]
  },
  {
   "cell_type": "markdown",
   "metadata": {},
   "source": [
    "Triangulacja wielokąta monotonicznego to proces podziału wielokąta monotonicznego na trójkąty poprzez dodawanie przekątnych (linii łączących wierzchołki), które nie przecinają się wewnętrznie."
   ]
  },
  {
   "cell_type": "markdown",
   "metadata": {},
   "source": [
    "### Przykładowy wielokąt podzielony na trójkąty."
   ]
  },
  {
   "cell_type": "code",
   "execution_count": 64,
   "metadata": {},
   "outputs": [],
   "source": [
    "draw_polygon_tri(polygon_example_1, polygon_example_tri)"
   ]
  },
  {
   "cell_type": "markdown",
   "metadata": {},
   "source": [
    "<span style=\"color:red\">Ćw.</span> Uzupełnij funkcję ```triangulation```. Wykorzystaj algorytm opisany na wykładzie."
   ]
  },
  {
   "cell_type": "code",
   "execution_count": 23,
   "metadata": {},
   "outputs": [],
   "source": [
    "\n",
    "def get_monotonic(polygon):\n",
    "\n",
    "\n",
    "\n",
    "    n=len(polygon)\n",
    "    min_point = polygon[0][1]\n",
    "    max_point = polygon[0][1]\n",
    "\n",
    "    y_min_index = 0\n",
    "    y_max_index = 0\n",
    "\n",
    "    #szukam najniższego i najwyższego punktu w wielokącie\n",
    "    for i, (_, point_y)in enumerate(polygon):\n",
    "\n",
    "        if point_y >= max_point:\n",
    "            max_point=point_y\n",
    "            y_max_index= i\n",
    "        if point_y<=min_point:\n",
    "            min_point =point_y\n",
    "            y_min_index = i\n",
    "\n",
    "\n",
    "\n",
    "\n",
    "    right_side = []\n",
    "    left_side = []\n",
    "\n",
    "    #dziele punkty wielokąta na dwa ciągi: lewy i prawy\n",
    "    if y_min_index < y_max_index:\n",
    "        for i in range(y_min_index,y_max_index ): right_side.append((polygon[i],i))\n",
    "        for i in range(y_max_index,n ): left_side.append((polygon[i],i))\n",
    "        for i in range(y_min_index ): left_side.append((polygon[i],i))\n",
    "    else:\n",
    "        for i in range(y_min_index,n): right_side.append((polygon[i],i))\n",
    "        for i in range(y_max_index): right_side.append((polygon[i],i))\n",
    "        for i in range(y_max_index,y_min_index): left_side.append((polygon[i],i))\n",
    "\n",
    "\n",
    "    r_len = len(right_side)\n",
    "    l_len = len(left_side)\n",
    "\n",
    "\n",
    "    #sprawdzam czy wielokąt jest y-monotoniczny\n",
    "    for i in range (r_len-1):\n",
    "        if right_side[i][0][1]>right_side[i+1][0][1]: return []\n",
    "    for i in range (l_len-1):\n",
    "        if left_side[i][0][1]<left_side[i+1][0][1]: return []\n",
    "\n",
    "    i=0\n",
    "    j=r_len-1\n",
    "\n",
    "\n",
    "    # sortuje liniowo lewy i prawy łańcuch do jednej tablicy\n",
    "    # w której współrzędna y jest nierosnąca\n",
    "    sorted_by_y = []\n",
    "    while i<l_len and j>=0:\n",
    "        if right_side[j][0][1]>left_side[i][0][1]:\n",
    "            sorted_by_y.append((right_side[j][0], right_side[j][1], 'r'))\n",
    "            j-=1\n",
    "        else:\n",
    "            sorted_by_y.append((left_side[i][0], left_side[i][1], 'l'))\n",
    "            i+=1\n",
    "    while i<l_len:\n",
    "        sorted_by_y.append((left_side[i][0], left_side[i][1], 'l'))\n",
    "        i+=1\n",
    "    while j>=0:\n",
    "        sorted_by_y.append((right_side[j][0], right_side[j][1], 'r'))\n",
    "        j-=1\n",
    "    return sorted_by_y\n",
    "\n",
    "\n",
    "\n",
    "# sprawdza czy potencjalna krawędź nie znajduje się w zadanym wielokącie\n",
    "def is_not_neighbour(a, b, n):\n",
    "    return abs(a - b) not in (1, n - 1)\n",
    "\n",
    "def mat_det(a, b, c):\n",
    "    return a[0] * c[1] + a[1] * b[0] + c[0] * b[1] - c[1] * b[0] - a[0] * b[1] - a[1] * c[0]\n",
    "\n",
    "\n",
    "# sprawdza czy rozważana krawędź nie znajduje się poza rozważanym wielokątem\n",
    "def correct_triangle(p1, p2, current, n):\n",
    "    if not is_not_neighbour(current[1], p1[1], n):\n",
    "        return False\n",
    "    if current[2] == 'r':  # Punkt na prawym łańcuchu\n",
    "        return mat_det(current[0], p2[0], p1[0]) < 0\n",
    "    else:  # Punkt na lewym łańcuchu\n",
    "        return mat_det(current[0], p2[0], p1[0]) > 0\n"
   ]
  },
  {
   "cell_type": "code",
   "execution_count": 26,
   "metadata": {},
   "outputs": [],
   "source": [
    "def triangulation(polygon):\n",
    "\n",
    "    \"\"\"\n",
    "    Funkcja dokonuje triangulacji wielokąta monotonicznego.\n",
    "    :param polygon: tablica krotek punktów na płaszczyźnie euklidesowej podanych przeciwnie do ruchu wskazówek zegara - nasz wielokąt\n",
    "    :return: tablica krotek dodawanych po kolei przekątnych np: [(1,5),(2,3)], oznacza, że triangulacja polega na dodaniu przekątnej pomiędzy wierzchołki o indeksach 1 i 5 oraz 2 i 3\n",
    "    \"\"\"\n",
    "    monotonic_order = get_monotonic(polygon)\n",
    "\n",
    "    #jeśli nie jest y-monotoniczny zwracam False\n",
    "    if len(monotonic_order) == 0:\n",
    "        return False\n",
    "\n",
    "\n",
    "    n=len(polygon)\n",
    "    stack=[monotonic_order[0],monotonic_order[1]]\n",
    "    edges=[]\n",
    "\n",
    "    for i in range(2,n):\n",
    "        current=monotonic_order[i]\n",
    "\n",
    "        if current[2] != stack[-1][2]: #sprawdzam czy ostatni element ze stosu nie jest w tym samym łańcuchu\n",
    "            for j in range(len(stack)-1,-1,-1): #jeśli nie jest to  przechodzę po całym stosie\n",
    "                if is_not_neighbour(current[1],stack[j][1],n): #sprawdzam czy nie są to sąsiedzi w wielokącie\n",
    "                    edges.append((current[1],stack[j][1]))\n",
    "            stack=[stack[-1]] #zostawiam tylko ostatni element ze stosu\n",
    "        else:\n",
    "            for j in range(len(stack)-2, -1, -1): #iteruję się po wszystkich elementach stosu oprócz ostatniego\n",
    "                if correct_triangle(stack[j],stack[len(stack)-1],current,n):\n",
    "                    edges.append((current[1],stack[j][1]))\n",
    "                    stack.pop()\n",
    "\n",
    "        stack.append(current)\n",
    "    return edges\n"
   ]
  },
  {
   "cell_type": "code",
   "execution_count": 27,
   "metadata": {},
   "outputs": [],
   "source": [
    "trian=triangulation(polygon_one)\n",
    "draw_polygon_tri(polygon_one,[(polygon_one[x],polygon_one[y]) for (x,y) in trian])\n",
    "\n",
    "trian=triangulation(polygon_two)\n",
    "draw_polygon_tri(polygon_two,[(polygon_two[x],polygon_two[y]) for (x,y) in trian])\n",
    "\n",
    "\n",
    "trian=triangulation(polygon_three)\n",
    "draw_polygon_tri(polygon_three,[(polygon_three[x],polygon_three[y]) for (x,y) in trian])\n",
    "\n",
    "trian=triangulation(polygon_four)\n",
    "draw_polygon_tri(polygon_four,[(polygon_four[x],polygon_four[y]) for (x,y) in trian])\n"
   ]
  },
  {
   "cell_type": "code",
   "execution_count": null,
   "metadata": {},
   "outputs": [],
   "source": [
    "def final(polygon, edges):\n",
    "    n=len(polygon)\n",
    "    final=[]\n",
    "    #reprezentacja ztriangulowanego wielokąta: lista krawędzi jako krotek postaci ((x1,y1),(x2,y2),type),\n",
    "    # \"p\" oznacza że jest to krawędź wielokąta\n",
    "    # \"t\" oznacza że jest to krawędź triangulacji\n",
    "    for i in range(n-1):\n",
    "        final.append((polygon[i],polygon[i+1],\"p\")) #krawędzie wielokąta\n",
    "    final.append((polygon[n-1],polygon[0],\"p\"))\n",
    "    for edge in edges:\n",
    "        final.append((polygon[edge[0]], polygon[edge[1]], \"t\"))\n",
    "    return final"
   ]
  },
  {
   "cell_type": "markdown",
   "metadata": {},
   "source": [
    "Przeprowadź testy poprawności powyższej funkcji.\n"
   ]
  },
  {
   "cell_type": "code",
   "execution_count": 28,
   "metadata": {},
   "outputs": [
    {
     "name": "stdout",
     "output_type": "stream",
     "text": [
      "Lab 3, task 3:\n",
      "\tTest 1: Passed\n",
      "\tTest 2: Passed\n",
      "\tTest 3: Passed\n",
      "\tTest 4: Passed\n",
      "\tTest 5: Passed\n",
      "\tTest 6: Passed\n",
      "\tTest 7: Passed\n",
      "\tTest 8: Passed\n",
      "\tTest 9: Passed\n",
      "\tTest 10: Passed\n",
      "Result: 10/10\n",
      "Time: 0.002s\n"
     ]
    }
   ],
   "source": [
    "Test().runtest(3, triangulation)"
   ]
  },
  {
   "cell_type": "code",
   "execution_count": null,
   "metadata": {},
   "outputs": [],
   "source": [
    "def triangulation_draw(polygon):\n",
    "\n",
    "    \"\"\"\n",
    "    Funkcja dokonuje triangulacji wielokąta monotonicznego.\n",
    "    :param polygon: tablica krotek punktów na płaszczyźnie euklidesowej podanych przeciwnie do ruchu wskazówek zegara - nasz wielokąt\n",
    "    :return: tablica krotek dodawanych po kolei przekątnych np: [(1,5),(2,3)], oznacza, że triangulacja polega na dodaniu przekątnej pomiędzy wierzchołki o indeksach 1 i 5 oraz 2 i 3\n",
    "    \"\"\"\n",
    "    monotonic_order = get_monotonic(polygon)\n",
    "\n",
    "    #jeśli nie jest y-monotoniczny zwracam False\n",
    "    if len(monotonic_order) == 0:\n",
    "        return False\n",
    "\n",
    "\n",
    "    n=len(polygon)\n",
    "    stack=[monotonic_order[0],monotonic_order[1]]\n",
    "    vis=Visualizer()\n",
    "    vis.add_line_segment([(polygon[i],polygon[(i+1)%n]) for i in range(n)],color=\"green\")\n",
    "    v(is.add_point[stack[0][0],stack[1][0]],color=\"red\")\n",
    "\n",
    "    for i in range(2,n):\n",
    "        current=monotonic_order[i]\n",
    "        vis.add_point(current[0],color=\"red\")\n",
    "\n",
    "        if current[2] != stack[-1][2]: #sprawdzam czy ostatni element ze stosu nie jest w tym samym łańcuchu\n",
    "            for j in range(len(stack)-1,-1,-1): #jeśli nie jest to  przechodzę po całym stosie\n",
    "                if is_not_neighbour(current[1],stack[j][1],n): #sprawdzam czy nie są to sąsiedzi w wielokącie\n",
    "                    vis.add_line_segment((polygon[current[1]],polygon[stack[j][1]]),color=\"red\")\n",
    "                    vis.show()\n",
    "                if j!=len(stack)-1:\n",
    "                    vis.add_point(stack[j][0],color=\"green\")\n",
    "\n",
    "            stack=[stack[-1]] #zostawiam tylko ostatni element ze stosu\n",
    "        else:\n",
    "            for j in range(len(stack)-2, -1, -1): #iteruję się po wszystkich elementach stosu oprócz ostatniego\n",
    "                if correct_triangle(stack[j],stack[len(stack)-1],current,n):\n",
    "                    vis.add_line_segment((polygon[current[1]],polygon[stack[j][1]]),color=\"red\")\n",
    "                    vis.add_point(stack[-1][0],color=\"green\")\n",
    "                    vis.show()\n",
    "                    stack.pop()\n",
    "\n",
    "        stack.append(current)\n",
    "        vis.show()\n",
    "\n",
    "\n",
    "    return vis\n"
   ]
  },
  {
   "cell_type": "code",
   "execution_count": 35,
   "metadata": {},
   "outputs": [
    {
     "data": {
      "image/gif": "[encoded data removed]",
      "text/plain": [
       "<IPython.core.display.Image object>"
      ]
     },
     "execution_count": 35,
     "metadata": {},
     "output_type": "execute_result"
    }
   ],
   "source": [
    "triang_vis=triangulation_draw(polygon_four)\n",
    "triang_vis.show_gif()"
   ]
  },
  {
   "cell_type": "markdown",
   "metadata": {},
   "source": [
    "Zwizualizuj powstały wielokąt podzielony na trójkąty."
   ]
  },
  {
   "cell_type": "markdown",
   "metadata": {},
   "source": []
  }
 ],
 "metadata": {
  "kernelspec": {
   "display_name": "bit-alg",
   "language": "python",
   "name": "python3"
  },
  "language_info": {
   "codemirror_mode": {
    "name": "ipython",
    "version": 3
   },
   "file_extension": ".py",
   "mimetype": "text/x-python",
   "name": "python",
   "nbconvert_exporter": "python",
   "pygments_lexer": "ipython3",
   "version": "3.9.20"
  }
 },
 "nbformat": 4,
 "nbformat_minor": 2
}
